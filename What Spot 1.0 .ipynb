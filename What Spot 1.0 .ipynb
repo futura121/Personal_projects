{
 "cells": [
  {
   "cell_type": "code",
   "execution_count": 11,
   "id": "9ca404f7-f14c-4114-bdc7-e6744c39d0fa",
   "metadata": {},
   "outputs": [
    {
     "name": "stdout",
     "output_type": "stream",
     "text": [
      "             Spot   Skill_Level  Min_Wind  Max_Wind  Drive_time  \\\n",
      "0    Lake Bowmoor      Beginner         5        25          75   \n",
      "1  Coombe Cellars  Intermediate        15        25         100   \n",
      "2        Portland      Advanced        18        40         140   \n",
      "3       Porthcawl          Wave        22        40         120   \n",
      "\n",
      "           Valid_Directions                                 Tide  \n",
      "0                [(0, 360)]                         at any level  \n",
      "1   [(70, 110), (250, 290)]          2 hours either side of High  \n",
      "2  [(0, 135), (202.5, 360)]  at any level, but avoid spring lows  \n",
      "3            [(225, 292.5)]         in the 2 hours after the low  \n"
     ]
    }
   ],
   "source": [
    "# Define the spots DataFrame with two valid direction ranges for each spot\n",
    "\n",
    "Spots = pd.DataFrame({\n",
    "    'Spot': ['Lake Bowmoor', 'Coombe Cellars', 'Portland', 'Porthcawl'],\n",
    "    'Skill_Level': ['Beginner', 'Intermediate', 'Advanced', 'Wave'],\n",
    "    # Beginner \n",
    "    # Intermediate is harnessing in planing conditions \n",
    "    # Advanced is independent in planing conditions and can go upwind\n",
    "    # Wave is bombproof water starting and footstraps\n",
    "    'Min_Wind': [5, 15, 18, 22],\n",
    "    'Max_Wind': [25, 25, 40, 40],\n",
    "    'Drive_time': [75, 100, 140, 120],\n",
    "    'Valid_Directions': [\n",
    "        [(0, 360)],            # Bowmoor: Works with any direction\n",
    "        [(70, 110), (250, 290)],  # Coombe Cellars: Acceptable around East and West\n",
    "        [(0, 135), (202.5, 360)],  # Portland: Acceptable direction range (N to SSE and SSW to N)\n",
    "        [(225, 292.5)]         # Porthcawl: Acceptable direction range (SW only)\n",
    "    ],\n",
    "    'Tide': [\n",
    "        # \"the best tides are \n",
    "        'at any level',\n",
    "        '2 hours either side of High', \n",
    "        'at any level, but avoid spring lows', \n",
    "        'in the 2 hours after the low'\n",
    "    ]\n",
    "})\n",
    "\n",
    "# Display the DataFrame\n",
    "print(Spots)\n"
   ]
  },
  {
   "cell_type": "code",
   "execution_count": 5,
   "id": "49d41e8f-1869-4df1-86ff-999357abe419",
   "metadata": {},
   "outputs": [],
   "source": [
    "import pandas as pd\n",
    "import requests\n",
    "import smtplib\n",
    "from email.mime.text import MIMEText"
   ]
  },
  {
   "cell_type": "code",
   "execution_count": 13,
   "id": "a0f54a10-6203-4752-a121-3a3c46fd783d",
   "metadata": {},
   "outputs": [],
   "source": [
    "# wind direction to degrees function \n",
    "def direction_to_degrees(direction):\n",
    "    directions = {\n",
    "        'N': 0,\n",
    "        'NNE': 22.5,\n",
    "        'NE': 45,\n",
    "        'ENE': 67.5,\n",
    "        'E': 90,\n",
    "        'ESE': 112.5,\n",
    "        'SE': 135,\n",
    "        'SSE': 157.5,\n",
    "        'S': 180,\n",
    "        'SSW': 202.5,\n",
    "        'SW': 225,\n",
    "        'WSW': 247.5,\n",
    "        'W': 270,\n",
    "        'WNW': 292.5,\n",
    "        'NW': 315,\n",
    "        'NNW': 337.5,\n",
    "    }\n",
    "    return directions.get(direction.upper(), None)"
   ]
  },
  {
   "cell_type": "code",
   "execution_count": 19,
   "id": "2f50451a-8151-4071-af84-109d7235a573",
   "metadata": {},
   "outputs": [
    {
     "name": "stdin",
     "output_type": "stream",
     "text": [
      "Hello windsurfer, let me know your skill level (Beginner/Intermediate/Advanced):  Advanced \n",
      "Great, please enter the current wind speed in knots:  25 \n",
      "Please enter the current wind direction (N, NE, E, SE, S, SW, W, NW):  SW\n"
     ]
    },
    {
     "name": "stdout",
     "output_type": "stream",
     "text": [
      "No suitable spots found based on the current conditions.\n"
     ]
    }
   ],
   "source": [
    "# Get current conditions interactively from the user\n",
    "current_conditions = {}\n",
    "\n",
    "# Prompt the user for skill level\n",
    "current_conditions['SkillLevel'] = input(\"Hello windsurfer, let me know your skill level (Beginner/Intermediate/Advanced): \").capitalize()\n",
    "\n",
    "# Prompt the user for wind speed\n",
    "current_conditions['Wind'] = float(input(\"Great, please enter the current wind speed in knots: \"))\n",
    "\n",
    "# Prompt the user for wind direction\n",
    "wind_direction_input = input(\"Please enter the current wind direction (N, NE, E, SE, S, SW, W, NW): \")\n",
    "current_conditions['WindDirection'] = direction_to_degrees(wind_direction_input)\n",
    "\n",
    "# Check the spots that match\n",
    "suitable_spots = Spots[\n",
    "    (Spots['Min_Wind'] <= current_conditions['Wind']) & \n",
    "    (Spots['Max_Wind'] >= current_conditions['Wind']) &\n",
    "    (Spots['Skill_Level'] == current_conditions['SkillLevel']) &\n",
    "    (Spots['Valid_Directions'].apply(lambda x: any(lower <= current_conditions['WindDirection'] <= upper for lower, upper in x)))\n",
    "]\n",
    "\n",
    "# Output the best spot and drive time\n",
    "if not suitable_spots.empty:\n",
    "    best_spot = suitable_spots['Spot'].tolist()[0]  # Assuming one best spot is selected\n",
    "    drive_time = suitable_spots['Drive_time'].tolist()[0]  # Get the drive time for the best spot\n",
    "    Tide= suitable_spots['Tide'].tolist()[0]\n",
    "    \n",
    "    # Print a gap before the output\n",
    "    print()\n",
    "    print(f\"The best spot for you in these conditions will be:\\n\\033[1m{best_spot}\\033[0m\\n\")\n",
    "    print(f\"It'll take around {drive_time} minutes to get to there from Bristol.\\n\")\n",
    "    print(f\"The best tides are {Tide}\")\n",
    "    print()\n",
    "    print(f\"Have a great session!\")\n",
    "    \n",
    "else:\n",
    "    print(\"No suitable spots found based on the current conditions.\")"
   ]
  },
  {
   "cell_type": "code",
   "execution_count": null,
   "id": "87c5c1e3-3e1d-4e19-b527-7e304c7b005b",
   "metadata": {},
   "outputs": [],
   "source": []
  }
 ],
 "metadata": {
  "kernelspec": {
   "display_name": "Python 3 (ipykernel)",
   "language": "python",
   "name": "python3"
  },
  "language_info": {
   "codemirror_mode": {
    "name": "ipython",
    "version": 3
   },
   "file_extension": ".py",
   "mimetype": "text/x-python",
   "name": "python",
   "nbconvert_exporter": "python",
   "pygments_lexer": "ipython3",
   "version": "3.12.4"
  }
 },
 "nbformat": 4,
 "nbformat_minor": 5
}
